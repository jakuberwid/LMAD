{
  "nbformat": 4,
  "nbformat_minor": 0,
  "metadata": {
    "colab": {
      "provenance": [],
      "collapsed_sections": [],
      "include_colab_link": true
    },
    "kernelspec": {
      "name": "python3",
      "display_name": "Python 3"
    },
    "language_info": {
      "name": "python"
    }
  },
  "cells": [
    {
      "cell_type": "markdown",
      "metadata": {
        "id": "view-in-github",
        "colab_type": "text"
      },
      "source": [
        "<a href=\"https://colab.research.google.com/github/jakuberwid/LMAD/blob/main/silhouette_stud.ipynb\" target=\"_parent\"><img src=\"https://colab.research.google.com/assets/colab-badge.svg\" alt=\"Open In Colab\"/></a>"
      ]
    },
    {
      "cell_type": "markdown",
      "source": [
        "## Indeks silhouette\n",
        "\n",
        "jest indeksem obliczanym dla każdego obiektu, wyrażającym na ile blisko temu obiektowi do wszystkich pozostałych z jego grupy w stosunku do wszystkich pozostałych z innej (najbliższej grupy).\n",
        "\n",
        "\n",
        "$$s(i) = \\frac{b(i) - a(i)}{\\max(a(i), b(i))}$$\n",
        "​\n",
        "\n",
        "gdzie:\n",
        "\n",
        "- $a(i)$ to średnia odległość obserwacji $x_i$ od pozostałych z jej grupy (*cohesion* - spójność),\n",
        "- $b(i)$ to najmniejsza ze średnich odległości do pozostałych grup (*separation* - rozdzelenie). "
      ],
      "metadata": {
        "id": "zNK7fxS1DX0J"
      }
    },
    {
      "cell_type": "code",
      "execution_count": null,
      "metadata": {
        "id": "4_mp3GhO77Zd"
      },
      "outputs": [],
      "source": [
        "import pandas as pd\n",
        "import numpy as np\n",
        "from plotnine import *"
      ]
    },
    {
      "cell_type": "code",
      "source": [
        "df = pd.DataFrame({\"ai\": np.arange(0.1, 5, 0.2), \"bi\": np.arange(4.9, 0, -0.2)})"
      ],
      "metadata": {
        "id": "teUg15BT8OBW"
      },
      "execution_count": null,
      "outputs": []
    },
    {
      "cell_type": "code",
      "source": [
        "df"
      ],
      "metadata": {
        "id": "ZfACg1fW8OIO",
        "colab": {
          "base_uri": "https://localhost:8080/",
          "height": 833
        },
        "outputId": "5a272e4d-6d8a-4980-90f7-dc4dd1339bf1"
      },
      "execution_count": null,
      "outputs": [
        {
          "output_type": "execute_result",
          "data": {
            "text/plain": [
              "     ai   bi\n",
              "0   0.1  4.9\n",
              "1   0.3  4.7\n",
              "2   0.5  4.5\n",
              "3   0.7  4.3\n",
              "4   0.9  4.1\n",
              "5   1.1  3.9\n",
              "6   1.3  3.7\n",
              "7   1.5  3.5\n",
              "8   1.7  3.3\n",
              "9   1.9  3.1\n",
              "10  2.1  2.9\n",
              "11  2.3  2.7\n",
              "12  2.5  2.5\n",
              "13  2.7  2.3\n",
              "14  2.9  2.1\n",
              "15  3.1  1.9\n",
              "16  3.3  1.7\n",
              "17  3.5  1.5\n",
              "18  3.7  1.3\n",
              "19  3.9  1.1\n",
              "20  4.1  0.9\n",
              "21  4.3  0.7\n",
              "22  4.5  0.5\n",
              "23  4.7  0.3\n",
              "24  4.9  0.1"
            ],
            "text/html": [
              "\n",
              "  <div id=\"df-535c9b1d-60b3-4a88-afa4-1408dec5b38e\">\n",
              "    <div class=\"colab-df-container\">\n",
              "      <div>\n",
              "<style scoped>\n",
              "    .dataframe tbody tr th:only-of-type {\n",
              "        vertical-align: middle;\n",
              "    }\n",
              "\n",
              "    .dataframe tbody tr th {\n",
              "        vertical-align: top;\n",
              "    }\n",
              "\n",
              "    .dataframe thead th {\n",
              "        text-align: right;\n",
              "    }\n",
              "</style>\n",
              "<table border=\"1\" class=\"dataframe\">\n",
              "  <thead>\n",
              "    <tr style=\"text-align: right;\">\n",
              "      <th></th>\n",
              "      <th>ai</th>\n",
              "      <th>bi</th>\n",
              "    </tr>\n",
              "  </thead>\n",
              "  <tbody>\n",
              "    <tr>\n",
              "      <th>0</th>\n",
              "      <td>0.1</td>\n",
              "      <td>4.9</td>\n",
              "    </tr>\n",
              "    <tr>\n",
              "      <th>1</th>\n",
              "      <td>0.3</td>\n",
              "      <td>4.7</td>\n",
              "    </tr>\n",
              "    <tr>\n",
              "      <th>2</th>\n",
              "      <td>0.5</td>\n",
              "      <td>4.5</td>\n",
              "    </tr>\n",
              "    <tr>\n",
              "      <th>3</th>\n",
              "      <td>0.7</td>\n",
              "      <td>4.3</td>\n",
              "    </tr>\n",
              "    <tr>\n",
              "      <th>4</th>\n",
              "      <td>0.9</td>\n",
              "      <td>4.1</td>\n",
              "    </tr>\n",
              "    <tr>\n",
              "      <th>5</th>\n",
              "      <td>1.1</td>\n",
              "      <td>3.9</td>\n",
              "    </tr>\n",
              "    <tr>\n",
              "      <th>6</th>\n",
              "      <td>1.3</td>\n",
              "      <td>3.7</td>\n",
              "    </tr>\n",
              "    <tr>\n",
              "      <th>7</th>\n",
              "      <td>1.5</td>\n",
              "      <td>3.5</td>\n",
              "    </tr>\n",
              "    <tr>\n",
              "      <th>8</th>\n",
              "      <td>1.7</td>\n",
              "      <td>3.3</td>\n",
              "    </tr>\n",
              "    <tr>\n",
              "      <th>9</th>\n",
              "      <td>1.9</td>\n",
              "      <td>3.1</td>\n",
              "    </tr>\n",
              "    <tr>\n",
              "      <th>10</th>\n",
              "      <td>2.1</td>\n",
              "      <td>2.9</td>\n",
              "    </tr>\n",
              "    <tr>\n",
              "      <th>11</th>\n",
              "      <td>2.3</td>\n",
              "      <td>2.7</td>\n",
              "    </tr>\n",
              "    <tr>\n",
              "      <th>12</th>\n",
              "      <td>2.5</td>\n",
              "      <td>2.5</td>\n",
              "    </tr>\n",
              "    <tr>\n",
              "      <th>13</th>\n",
              "      <td>2.7</td>\n",
              "      <td>2.3</td>\n",
              "    </tr>\n",
              "    <tr>\n",
              "      <th>14</th>\n",
              "      <td>2.9</td>\n",
              "      <td>2.1</td>\n",
              "    </tr>\n",
              "    <tr>\n",
              "      <th>15</th>\n",
              "      <td>3.1</td>\n",
              "      <td>1.9</td>\n",
              "    </tr>\n",
              "    <tr>\n",
              "      <th>16</th>\n",
              "      <td>3.3</td>\n",
              "      <td>1.7</td>\n",
              "    </tr>\n",
              "    <tr>\n",
              "      <th>17</th>\n",
              "      <td>3.5</td>\n",
              "      <td>1.5</td>\n",
              "    </tr>\n",
              "    <tr>\n",
              "      <th>18</th>\n",
              "      <td>3.7</td>\n",
              "      <td>1.3</td>\n",
              "    </tr>\n",
              "    <tr>\n",
              "      <th>19</th>\n",
              "      <td>3.9</td>\n",
              "      <td>1.1</td>\n",
              "    </tr>\n",
              "    <tr>\n",
              "      <th>20</th>\n",
              "      <td>4.1</td>\n",
              "      <td>0.9</td>\n",
              "    </tr>\n",
              "    <tr>\n",
              "      <th>21</th>\n",
              "      <td>4.3</td>\n",
              "      <td>0.7</td>\n",
              "    </tr>\n",
              "    <tr>\n",
              "      <th>22</th>\n",
              "      <td>4.5</td>\n",
              "      <td>0.5</td>\n",
              "    </tr>\n",
              "    <tr>\n",
              "      <th>23</th>\n",
              "      <td>4.7</td>\n",
              "      <td>0.3</td>\n",
              "    </tr>\n",
              "    <tr>\n",
              "      <th>24</th>\n",
              "      <td>4.9</td>\n",
              "      <td>0.1</td>\n",
              "    </tr>\n",
              "  </tbody>\n",
              "</table>\n",
              "</div>\n",
              "      <button class=\"colab-df-convert\" onclick=\"convertToInteractive('df-535c9b1d-60b3-4a88-afa4-1408dec5b38e')\"\n",
              "              title=\"Convert this dataframe to an interactive table.\"\n",
              "              style=\"display:none;\">\n",
              "        \n",
              "  <svg xmlns=\"http://www.w3.org/2000/svg\" height=\"24px\"viewBox=\"0 0 24 24\"\n",
              "       width=\"24px\">\n",
              "    <path d=\"M0 0h24v24H0V0z\" fill=\"none\"/>\n",
              "    <path d=\"M18.56 5.44l.94 2.06.94-2.06 2.06-.94-2.06-.94-.94-2.06-.94 2.06-2.06.94zm-11 1L8.5 8.5l.94-2.06 2.06-.94-2.06-.94L8.5 2.5l-.94 2.06-2.06.94zm10 10l.94 2.06.94-2.06 2.06-.94-2.06-.94-.94-2.06-.94 2.06-2.06.94z\"/><path d=\"M17.41 7.96l-1.37-1.37c-.4-.4-.92-.59-1.43-.59-.52 0-1.04.2-1.43.59L10.3 9.45l-7.72 7.72c-.78.78-.78 2.05 0 2.83L4 21.41c.39.39.9.59 1.41.59.51 0 1.02-.2 1.41-.59l7.78-7.78 2.81-2.81c.8-.78.8-2.07 0-2.86zM5.41 20L4 18.59l7.72-7.72 1.47 1.35L5.41 20z\"/>\n",
              "  </svg>\n",
              "      </button>\n",
              "      \n",
              "  <style>\n",
              "    .colab-df-container {\n",
              "      display:flex;\n",
              "      flex-wrap:wrap;\n",
              "      gap: 12px;\n",
              "    }\n",
              "\n",
              "    .colab-df-convert {\n",
              "      background-color: #E8F0FE;\n",
              "      border: none;\n",
              "      border-radius: 50%;\n",
              "      cursor: pointer;\n",
              "      display: none;\n",
              "      fill: #1967D2;\n",
              "      height: 32px;\n",
              "      padding: 0 0 0 0;\n",
              "      width: 32px;\n",
              "    }\n",
              "\n",
              "    .colab-df-convert:hover {\n",
              "      background-color: #E2EBFA;\n",
              "      box-shadow: 0px 1px 2px rgba(60, 64, 67, 0.3), 0px 1px 3px 1px rgba(60, 64, 67, 0.15);\n",
              "      fill: #174EA6;\n",
              "    }\n",
              "\n",
              "    [theme=dark] .colab-df-convert {\n",
              "      background-color: #3B4455;\n",
              "      fill: #D2E3FC;\n",
              "    }\n",
              "\n",
              "    [theme=dark] .colab-df-convert:hover {\n",
              "      background-color: #434B5C;\n",
              "      box-shadow: 0px 1px 3px 1px rgba(0, 0, 0, 0.15);\n",
              "      filter: drop-shadow(0px 1px 2px rgba(0, 0, 0, 0.3));\n",
              "      fill: #FFFFFF;\n",
              "    }\n",
              "  </style>\n",
              "\n",
              "      <script>\n",
              "        const buttonEl =\n",
              "          document.querySelector('#df-535c9b1d-60b3-4a88-afa4-1408dec5b38e button.colab-df-convert');\n",
              "        buttonEl.style.display =\n",
              "          google.colab.kernel.accessAllowed ? 'block' : 'none';\n",
              "\n",
              "        async function convertToInteractive(key) {\n",
              "          const element = document.querySelector('#df-535c9b1d-60b3-4a88-afa4-1408dec5b38e');\n",
              "          const dataTable =\n",
              "            await google.colab.kernel.invokeFunction('convertToInteractive',\n",
              "                                                     [key], {});\n",
              "          if (!dataTable) return;\n",
              "\n",
              "          const docLinkHtml = 'Like what you see? Visit the ' +\n",
              "            '<a target=\"_blank\" href=https://colab.research.google.com/notebooks/data_table.ipynb>data table notebook</a>'\n",
              "            + ' to learn more about interactive tables.';\n",
              "          element.innerHTML = '';\n",
              "          dataTable['output_type'] = 'display_data';\n",
              "          await google.colab.output.renderOutput(dataTable, element);\n",
              "          const docLink = document.createElement('div');\n",
              "          docLink.innerHTML = docLinkHtml;\n",
              "          element.appendChild(docLink);\n",
              "        }\n",
              "      </script>\n",
              "    </div>\n",
              "  </div>\n",
              "  "
            ]
          },
          "metadata": {},
          "execution_count": 3
        }
      ]
    },
    {
      "cell_type": "code",
      "source": [
        "df['roznica'] = df.bi - df.ai\n",
        "df['maks'] = df.max(axis = 1)\n",
        "df['silh'] =df.roznica/df.maks"
      ],
      "metadata": {
        "id": "mbVw-HW88OOV"
      },
      "execution_count": null,
      "outputs": []
    },
    {
      "cell_type": "code",
      "source": [
        "df['silh_abs'] = df.silh.abs()"
      ],
      "metadata": {
        "id": "mvptVtc0nXY4"
      },
      "execution_count": null,
      "outputs": []
    },
    {
      "cell_type": "code",
      "source": [
        "round (df.silh,2)"
      ],
      "metadata": {
        "id": "RnF-ZjwV8OUb",
        "colab": {
          "base_uri": "https://localhost:8080/"
        },
        "outputId": "8f6956b4-3e49-4324-e934-7fcb1d0d0159"
      },
      "execution_count": null,
      "outputs": [
        {
          "output_type": "execute_result",
          "data": {
            "text/plain": [
              "0     0.98\n",
              "1     0.94\n",
              "2     0.89\n",
              "3     0.84\n",
              "4     0.78\n",
              "5     0.72\n",
              "6     0.65\n",
              "7     0.57\n",
              "8     0.48\n",
              "9     0.39\n",
              "10    0.28\n",
              "11    0.15\n",
              "12   -0.00\n",
              "13   -0.15\n",
              "14   -0.28\n",
              "15   -0.39\n",
              "16   -0.48\n",
              "17   -0.57\n",
              "18   -0.65\n",
              "19   -0.72\n",
              "20   -0.78\n",
              "21   -0.84\n",
              "22   -0.89\n",
              "23   -0.94\n",
              "24   -0.98\n",
              "Name: silh, dtype: float64"
            ]
          },
          "metadata": {},
          "execution_count": 6
        }
      ]
    },
    {
      "cell_type": "code",
      "source": [],
      "metadata": {
        "id": "U72bxGDRFNkA"
      },
      "execution_count": null,
      "outputs": []
    },
    {
      "cell_type": "markdown",
      "source": [
        "## Interpretacja\n",
        "\n",
        "Im bliższa $s(i)$  wartości 1, tym bardziej dany obiekt pasuje do swojej grupy, im bliższa wartości -1, tym bliżej temu obiektowi do grupy sąsiedniej. $s(i)$ bliskie 0 oznacza, że punkt znajduje się pomiędzy dwoma skupieniami."
      ],
      "metadata": {
        "id": "BMKbUjYwF4FX"
      }
    },
    {
      "cell_type": "code",
      "source": [
        "(ggplot(df, aes(x= 'ai', y = 'bi', color = 'silh', size ='silh_abs')) +\n",
        " geom_point() +\n",
        " scale_color_gradient(low='red', high='green') +\n",
        " theme_minimal()) "
      ],
      "metadata": {
        "id": "QIsYHoaX8Oab",
        "colab": {
          "base_uri": "https://localhost:8080/",
          "height": 477
        },
        "outputId": "a0250c09-85a8-4e82-dc9f-4614b049c9ea"
      },
      "execution_count": null,
      "outputs": [
        {
          "output_type": "display_data",
          "data": {
            "text/plain": [
              "<Figure size 640x480 with 1 Axes>"
            ],
            "image/png": "[encoded data removed]"
          },
          "metadata": {
            "needs_background": "light"
          }
        },
        {
          "output_type": "execute_result",
          "data": {
            "text/plain": [
              "<ggplot: (8766322290445)>"
            ]
          },
          "metadata": {},
          "execution_count": 7
        }
      ]
    },
    {
      "cell_type": "markdown",
      "source": [
        "## Przykład"
      ],
      "metadata": {
        "id": "OJW9wNk7WhPP"
      }
    },
    {
      "cell_type": "code",
      "source": [
        "from sklearn.cluster import KMeans\n",
        "from sklearn.metrics import silhouette_score\n",
        "\n",
        "from sklearn.datasets import make_blobs"
      ],
      "metadata": {
        "id": "fSHN75UtWjlZ"
      },
      "execution_count": null,
      "outputs": []
    },
    {
      "cell_type": "code",
      "source": [
        "n = 100\n",
        "\n",
        "centra = [(-6,-6), (0,0), (6,6), (9,9)]\n",
        "\n",
        "X, y = make_blobs(n_samples=n, n_features=2, centers=centra, cluster_std=1, random_state=0)"
      ],
      "metadata": {
        "id": "SpRCDEoyWsAA"
      },
      "execution_count": null,
      "outputs": []
    },
    {
      "cell_type": "code",
      "source": [
        "df = pd.DataFrame(X, columns =['x1', 'x2'])\n",
        "df['Grupy'] = y"
      ],
      "metadata": {
        "id": "Ezamys8GqBD1"
      },
      "execution_count": null,
      "outputs": []
    },
    {
      "cell_type": "code",
      "source": [
        "ks = range(2, 20)\n",
        "sylwetki = []\n",
        "\n",
        "for k in ks:\n",
        "  km = KMeans (n_clusters=k).fit(df[['x1','x2']])\n",
        "  sylwetki.append(silhouette_score(df[['x1','x2']],km.predict(df[['x1','x2']])))"
      ],
      "metadata": {
        "id": "oq0X_g9RWsws"
      },
      "execution_count": null,
      "outputs": []
    },
    {
      "cell_type": "code",
      "source": [
        "sylwetki_df = pd.DataFrame(pd.DataFrame({'K': ks,\n",
        "                           'sylwetka' : sylwetki}))"
      ],
      "metadata": {
        "id": "j0miMYflWtP1"
      },
      "execution_count": null,
      "outputs": []
    },
    {
      "cell_type": "code",
      "source": [
        "(ggplot(sylwetki_df, aes(x= 'K', y = 'sylwetka')) +\n",
        " geom_point() +\n",
        " geom_line() + \n",
        " scale_x_continuous (breaks = ks) +\n",
        " theme_minimal() +\n",
        " labs (title = 'sylwetki dla kolejnych k'))"
      ],
      "metadata": {
        "id": "jj3XIdwXWxQ2",
        "colab": {
          "base_uri": "https://localhost:8080/",
          "height": 503
        },
        "outputId": "f97d1deb-8b60-45e2-f531-fa045e77ac96"
      },
      "execution_count": null,
      "outputs": [
        {
          "output_type": "display_data",
          "data": {
            "text/plain": [
              "<Figure size 640x480 with 1 Axes>"
            ],
            "image/png": "[encoded data removed]"
          },
          "metadata": {
            "needs_background": "light"
          }
        },
        {
          "output_type": "execute_result",
          "data": {
            "text/plain": [
              "<ggplot: (8766295606769)>"
            ]
          },
          "metadata": {},
          "execution_count": 13
        }
      ]
    }
  ]
}