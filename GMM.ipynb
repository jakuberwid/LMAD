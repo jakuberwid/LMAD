{
  "cells": [
    {
      "cell_type": "markdown",
      "metadata": {
        "id": "view-in-github",
        "colab_type": "text"
      },
      "source": [
        "<a href=\"https://colab.research.google.com/github/jakuberwid/LMAD/blob/main/GMM.ipynb\" target=\"_parent\"><img src=\"https://colab.research.google.com/assets/colab-badge.svg\" alt=\"Open In Colab\"/></a>"
      ]
    },
    {
      "cell_type": "code",
      "execution_count": null,
      "id": "31ea4608",
      "metadata": {
        "colab": {
          "base_uri": "https://localhost:8080/"
        },
        "id": "31ea4608",
        "outputId": "2c9dc16e-15d3-48fd-8052-a39ddcabac76"
      },
      "outputs": [
        {
          "output_type": "stream",
          "name": "stdout",
          "text": [
            "Looking in indexes: https://pypi.org/simple, https://us-python.pkg.dev/colab-wheels/public/simple/\n",
            "Requirement already satisfied: plotnine in /usr/local/lib/python3.7/dist-packages (0.8.0)\n",
            "Requirement already satisfied: pandas>=1.1.0 in /usr/local/lib/python3.7/dist-packages (from plotnine) (1.3.5)\n",
            "Requirement already satisfied: patsy>=0.5.1 in /usr/local/lib/python3.7/dist-packages (from plotnine) (0.5.3)\n",
            "Requirement already satisfied: matplotlib>=3.1.1 in /usr/local/lib/python3.7/dist-packages (from plotnine) (3.2.2)\n",
            "Requirement already satisfied: statsmodels>=0.12.1 in /usr/local/lib/python3.7/dist-packages (from plotnine) (0.12.2)\n",
            "Requirement already satisfied: descartes>=1.1.0 in /usr/local/lib/python3.7/dist-packages (from plotnine) (1.1.0)\n",
            "Requirement already satisfied: mizani>=0.7.3 in /usr/local/lib/python3.7/dist-packages (from plotnine) (0.7.3)\n",
            "Requirement already satisfied: scipy>=1.5.0 in /usr/local/lib/python3.7/dist-packages (from plotnine) (1.7.3)\n",
            "Requirement already satisfied: numpy>=1.19.0 in /usr/local/lib/python3.7/dist-packages (from plotnine) (1.21.6)\n",
            "Requirement already satisfied: python-dateutil>=2.1 in /usr/local/lib/python3.7/dist-packages (from matplotlib>=3.1.1->plotnine) (2.8.2)\n",
            "Requirement already satisfied: cycler>=0.10 in /usr/local/lib/python3.7/dist-packages (from matplotlib>=3.1.1->plotnine) (0.11.0)\n",
            "Requirement already satisfied: kiwisolver>=1.0.1 in /usr/local/lib/python3.7/dist-packages (from matplotlib>=3.1.1->plotnine) (1.4.4)\n",
            "Requirement already satisfied: pyparsing!=2.0.4,!=2.1.2,!=2.1.6,>=2.0.1 in /usr/local/lib/python3.7/dist-packages (from matplotlib>=3.1.1->plotnine) (3.0.9)\n",
            "Requirement already satisfied: typing-extensions in /usr/local/lib/python3.7/dist-packages (from kiwisolver>=1.0.1->matplotlib>=3.1.1->plotnine) (4.1.1)\n",
            "Requirement already satisfied: palettable in /usr/local/lib/python3.7/dist-packages (from mizani>=0.7.3->plotnine) (3.3.0)\n",
            "Requirement already satisfied: pytz>=2017.3 in /usr/local/lib/python3.7/dist-packages (from pandas>=1.1.0->plotnine) (2022.4)\n",
            "Requirement already satisfied: six in /usr/local/lib/python3.7/dist-packages (from patsy>=0.5.1->plotnine) (1.15.0)\n"
          ]
        }
      ],
      "source": [
        "!pip install plotnine"
      ]
    },
    {
      "cell_type": "code",
      "execution_count": null,
      "id": "566a32e1",
      "metadata": {
        "id": "566a32e1"
      },
      "outputs": [],
      "source": [
        "import numpy as np\n",
        "import pandas as pd\n",
        "from plotnine import *\n",
        "\n",
        "from scipy import stats\n",
        "\n",
        "from sklearn.mixture import GaussianMixture, K"
      ]
    },
    {
      "cell_type": "markdown",
      "id": "49812e51",
      "metadata": {
        "id": "49812e51"
      },
      "source": [
        "### Algorytm GMM"
      ]
    },
    {
      "cell_type": "markdown",
      "id": "2f0ec1ec",
      "metadata": {
        "id": "2f0ec1ec"
      },
      "source": [
        "#### Grupowanie GMM w kolejnych krokach EM"
      ]
    },
    {
      "cell_type": "code",
      "execution_count": null,
      "id": "befc55b6",
      "metadata": {
        "id": "befc55b6"
      },
      "outputs": [],
      "source": [
        "df = pd.DataFrame({'x' : [0.1,0.25,0.17,0.22,0.3,0.28,0.45,0.5,0.7,0.73,0.78,0.8,0.81,0.99]})"
      ]
    },
    {
      "cell_type": "code",
      "execution_count": null,
      "id": "6b7fb1e0",
      "metadata": {
        "colab": {
          "base_uri": "https://localhost:8080/",
          "height": 477
        },
        "id": "6b7fb1e0",
        "outputId": "d01aa7ec-8bb3-4dd2-ab71-c2f31802738f"
      },
      "outputs": [
        {
          "output_type": "display_data",
          "data": {
            "text/plain": [
              "<Figure size 640x480 with 1 Axes>"
            ],
            "image/png": "[encoded data removed]"
          },
          "metadata": {
            "needs_background": "light"
          }
        },
        {
          "output_type": "execute_result",
          "data": {
            "text/plain": [
              "<ggplot: (8778071615393)>"
            ]
          },
          "metadata": {},
          "execution_count": 4
        }
      ],
      "source": [
        "(ggplot(df, aes(x = 'x')) +\n",
        "geom_density() +\n",
        "geom_point(aes(y = -0.1))+\n",
        "theme_minimal())"
      ]
    },
    {
      "cell_type": "code",
      "execution_count": null,
      "id": "f8fd8eb0",
      "metadata": {
        "colab": {
          "base_uri": "https://localhost:8080/"
        },
        "id": "f8fd8eb0",
        "outputId": "27a8f82a-f83d-441c-fac7-61ac2bb8b4fa"
      },
      "outputs": [
        {
          "output_type": "stream",
          "name": "stdout",
          "text": [
            "0.5057142857142857 0.2905886409372504\n",
            "[0.1, 0.25, 0.17, 0.22, 0.3, 0.28, 0.45, 0.5, 0.7, 0.73, 0.78, 0.8, 0.81, 0.99]\n",
            "[0.52 0.93 0.7  0.85 1.07 1.02 1.35 1.37 1.1  1.02 0.88 0.82 0.79 0.34]\n",
            "[0.77 1.07 0.96 1.04 1.07 1.08 0.92 0.89 0.97 0.97 0.96 0.94 0.93 0.53]\n"
          ]
        }
      ],
      "source": [
        "sr_x = df.x.mean()\n",
        "od_x = df.x.std()\n",
        "print(sr_x, od_x)\n",
        "\n",
        "print(df.x.to_list())\n",
        "print(stats.norm.pdf(df.x, sr_x, od_x).round(2))\n",
        "# (1/(od_x*np.sqrt(2*np.pi)))*np.power(np.e,-(np.power((df.x-sr_x),2)/(2*np.power(od_x,2))))\n",
        "print(stats.gaussian_kde(df.x).evaluate(df.x).round(2))"
      ]
    },
    {
      "cell_type": "code",
      "execution_count": null,
      "id": "676b4dc8",
      "metadata": {
        "id": "676b4dc8"
      },
      "outputs": [],
      "source": [
        "df['pdf'] = stats.norm.pdf(df.x, sr_x, od_x)\n",
        "df['cdf'] = stats.norm.cdf(df.x, sr_x, od_x)\n",
        "df['g'] = stats.gaussian_kde(df.x).evaluate(df.x)"
      ]
    },
    {
      "cell_type": "code",
      "execution_count": null,
      "id": "d6d3e03b",
      "metadata": {
        "colab": {
          "base_uri": "https://localhost:8080/",
          "height": 477
        },
        "id": "d6d3e03b",
        "outputId": "fb1bae78-3e12-4622-b98f-929aa142adcd"
      },
      "outputs": [
        {
          "output_type": "display_data",
          "data": {
            "text/plain": [
              "<Figure size 640x480 with 1 Axes>"
            ],
            "image/png": "[encoded data removed]"
          },
          "metadata": {
            "needs_background": "light"
          }
        },
        {
          "output_type": "execute_result",
          "data": {
            "text/plain": [
              "<ggplot: (8778071531913)>"
            ]
          },
          "metadata": {},
          "execution_count": 7
        }
      ],
      "source": [
        "(ggplot(df, aes(x = 'x')) +\n",
        "geom_density() +\n",
        "geom_point(aes(y = -0.1))+\n",
        "geom_line(aes(y = 'pdf'), color = 'royalblue', linetype = 'dashed') +\n",
        "geom_line(aes(y = 'cdf'), color = 'seagreen', linetype = 'dashed') +\n",
        "geom_line(aes(y = 'g'), color = 'orangered', linetype = 'dashed') +\n",
        "theme_minimal())"
      ]
    },
    {
      "cell_type": "code",
      "execution_count": null,
      "id": "e2377bc8",
      "metadata": {
        "colab": {
          "base_uri": "https://localhost:8080/",
          "height": 356
        },
        "id": "e2377bc8",
        "outputId": "399eddb3-21ed-47ff-bca6-091d6a6d209f"
      },
      "outputs": [
        {
          "output_type": "error",
          "ename": "AttributeError",
          "evalue": "ignored",
          "traceback": [
            "\u001b[0;31m---------------------------------------------------------------------------\u001b[0m",
            "\u001b[0;31mAttributeError\u001b[0m                            Traceback (most recent call last)",
            "\u001b[0;32m<ipython-input-13-3d8579ffd4e5>\u001b[0m in \u001b[0;36m<module>\u001b[0;34m\u001b[0m\n\u001b[1;32m     12\u001b[0m \u001b[0;31m# # etap M\u001b[0m\u001b[0;34m\u001b[0m\u001b[0;34m\u001b[0m\u001b[0;34m\u001b[0m\u001b[0m\n\u001b[1;32m     13\u001b[0m \u001b[0;34m\u001b[0m\u001b[0m\n\u001b[0;32m---> 14\u001b[0;31m \u001b[0msr_0\u001b[0m \u001b[0;34m=\u001b[0m \u001b[0mdf\u001b[0m\u001b[0;34m.\u001b[0m\u001b[0mx\u001b[0m\u001b[0;34m.\u001b[0m\u001b[0mwhere\u001b[0m\u001b[0;34m(\u001b[0m\u001b[0mdf\u001b[0m\u001b[0;34m.\u001b[0m\u001b[0mklastry0\u001b[0m \u001b[0;34m==\u001b[0m \u001b[0;36m0\u001b[0m\u001b[0;34m)\u001b[0m\u001b[0;34m.\u001b[0m\u001b[0mmean\u001b[0m\u001b[0;34m(\u001b[0m\u001b[0;34m)\u001b[0m\u001b[0;34m\u001b[0m\u001b[0;34m\u001b[0m\u001b[0m\n\u001b[0m\u001b[1;32m     15\u001b[0m \u001b[0mod_0\u001b[0m \u001b[0;34m=\u001b[0m \u001b[0mdf\u001b[0m\u001b[0;34m.\u001b[0m\u001b[0mx\u001b[0m\u001b[0;34m.\u001b[0m\u001b[0mwhere\u001b[0m\u001b[0;34m(\u001b[0m\u001b[0mdf\u001b[0m\u001b[0;34m.\u001b[0m\u001b[0mklastry0\u001b[0m \u001b[0;34m==\u001b[0m \u001b[0;36m0\u001b[0m\u001b[0;34m)\u001b[0m\u001b[0;34m.\u001b[0m\u001b[0mstd\u001b[0m\u001b[0;34m(\u001b[0m\u001b[0;34m)\u001b[0m\u001b[0;34m\u001b[0m\u001b[0;34m\u001b[0m\u001b[0m\n\u001b[1;32m     16\u001b[0m \u001b[0msr_1\u001b[0m \u001b[0;34m=\u001b[0m \u001b[0mdf\u001b[0m\u001b[0;34m.\u001b[0m\u001b[0mx\u001b[0m\u001b[0;34m.\u001b[0m\u001b[0mwhere\u001b[0m\u001b[0;34m(\u001b[0m\u001b[0mdf\u001b[0m\u001b[0;34m.\u001b[0m\u001b[0mklastry0\u001b[0m \u001b[0;34m==\u001b[0m \u001b[0;36m1\u001b[0m\u001b[0;34m)\u001b[0m\u001b[0;34m.\u001b[0m\u001b[0mmean\u001b[0m\u001b[0;34m(\u001b[0m\u001b[0;34m)\u001b[0m\u001b[0;34m\u001b[0m\u001b[0;34m\u001b[0m\u001b[0m\n",
            "\u001b[0;32m/usr/local/lib/python3.7/dist-packages/pandas/core/generic.py\u001b[0m in \u001b[0;36m__getattr__\u001b[0;34m(self, name)\u001b[0m\n\u001b[1;32m   5485\u001b[0m         ):\n\u001b[1;32m   5486\u001b[0m             \u001b[0;32mreturn\u001b[0m \u001b[0mself\u001b[0m\u001b[0;34m[\u001b[0m\u001b[0mname\u001b[0m\u001b[0;34m]\u001b[0m\u001b[0;34m\u001b[0m\u001b[0;34m\u001b[0m\u001b[0m\n\u001b[0;32m-> 5487\u001b[0;31m         \u001b[0;32mreturn\u001b[0m \u001b[0mobject\u001b[0m\u001b[0;34m.\u001b[0m\u001b[0m__getattribute__\u001b[0m\u001b[0;34m(\u001b[0m\u001b[0mself\u001b[0m\u001b[0;34m,\u001b[0m \u001b[0mname\u001b[0m\u001b[0;34m)\u001b[0m\u001b[0;34m\u001b[0m\u001b[0;34m\u001b[0m\u001b[0m\n\u001b[0m\u001b[1;32m   5488\u001b[0m \u001b[0;34m\u001b[0m\u001b[0m\n\u001b[1;32m   5489\u001b[0m     \u001b[0;32mdef\u001b[0m \u001b[0m__setattr__\u001b[0m\u001b[0;34m(\u001b[0m\u001b[0mself\u001b[0m\u001b[0;34m,\u001b[0m \u001b[0mname\u001b[0m\u001b[0;34m:\u001b[0m \u001b[0mstr\u001b[0m\u001b[0;34m,\u001b[0m \u001b[0mvalue\u001b[0m\u001b[0;34m)\u001b[0m \u001b[0;34m->\u001b[0m \u001b[0;32mNone\u001b[0m\u001b[0;34m:\u001b[0m\u001b[0;34m\u001b[0m\u001b[0;34m\u001b[0m\u001b[0m\n",
            "\u001b[0;31mAttributeError\u001b[0m: 'DataFrame' object has no attribute 'klastry0'"
          ]
        }
      ],
      "source": [
        "# Iter0\n",
        "\n",
        "# etap E\n",
        "# np.random.seed(2)\n",
        "# df['klastry0'] = np.random.randint(0,2,df.shape[0])\n",
        "\n",
        "# (ggplot(df, aes(x = 'x', y = -0.1, fill = 'factor(klastry0)')) +\n",
        "#  geom_point(size = 4, alpha = 0.5) +\n",
        "#  theme_minimal() +\n",
        "#  labs(fill = \"Klastry0\"))\n",
        "\n",
        "# # etap M\n",
        "\n",
        "sr_0 = df.x.where(df.klastry0 == 0).mean()\n",
        "od_0 = df.x.where(df.klastry0 == 0).std()\n",
        "sr_1 = df.x.where(df.klastry0 == 1).mean()\n",
        "od_1 = df.x.where(df.klastry0 == 1).std()\n",
        "\n",
        "# Wizualizacja\n",
        "print(f'Parametry zer: {sr_0:.3f}, {od_0:.3f},\\nParametry jedynek: {sr_1:.3f}, {od_1:.3f}')\n",
        "\n",
        "(ggplot(df, aes(x = 'x', color = 'factor(klastry0)')) +\n",
        "geom_density() +\n",
        "geom_point(aes(x = 'x', y = -0.1, color = 'factor(klastry0)')) +\n",
        "geom_rect(xmin=sr_0-od_0, xmax=sr_0+od_0, ymin=0, ymax=1.3, fill = 'salmon', color = 'salmon', alpha = 0.01, linetype = 'dotted') +\n",
        "geom_rect(xmin=sr_1-od_1, xmax=sr_1+od_1, ymin=0, ymax=1.3, fill = 'turquoise', color = 'turquoise', alpha = 0.01, linetype = 'dotted') +\n",
        "theme_minimal()+labs(color = 'klastry0'))"
      ]
    },
    {
      "cell_type": "code",
      "execution_count": null,
      "id": "c1d12bdc",
      "metadata": {
        "id": "c1d12bdc"
      },
      "outputs": [],
      "source": [
        "# Iter1\n",
        "## etap E\n",
        "\n",
        "# df['prawd_0'] = stats.norm.pdf(df.x, sr_0, od_0)\n",
        "# df['prawd_1'] = stats.norm.pdf(df.x, sr_1, od_1)\n",
        "\n",
        "# # Wizualizacja w trakcie E\n",
        "# (ggplot(df) +\n",
        "# geom_point(aes(x = 'x', y = -0.1)) +\n",
        "# geom_line(aes(x = 'x', y = 'prawd_0'), color = \"salmon\") +\n",
        "# geom_line(aes(x = 'x', y = 'prawd_1'), color = \"turquoise\") +\n",
        "# theme_minimal())\n",
        "\n",
        "# df['klastry1'] = np.where(df.prawd_0 > df.prawd_1, 0, 1)\n",
        "\n",
        "# # Wizualizacja po E\n",
        "# (ggplot(df) +\n",
        "# geom_point(aes(x = 'x', y = -0.1, color = 'factor(klastry1)')) +\n",
        "# geom_line(aes(x = 'x', y = 'prawd_0'), color = \"salmon\") +\n",
        "# geom_line(aes(x = 'x', y = 'prawd_1'), color = \"turquoise\") +\n",
        "# theme_minimal() + labs(color = 'Klastry1'))\n",
        "\n",
        "# # # etap M\n",
        "\n",
        "# sr_0 = df.x.where(df.klastry1 == 0).mean()\n",
        "# od_0 = df.x.where(df.klastry1 == 0).std()\n",
        "# sr_1 = df.x.where(df.klastry1 == 1).mean()\n",
        "# od_1 = df.x.where(df.klastry1 == 1).std()\n",
        "\n",
        "# # Wizualizacja po M\n",
        "\n",
        "# (ggplot(df) +\n",
        "# geom_point(aes(x = 'x', y = -0.1, color = 'factor(klastry1)')) +\n",
        "# geom_line(aes(x = 'x', y = 'prawd_0'), color = \"salmon\") +\n",
        "# geom_line(aes(x = 'x', y = 'prawd_1'), color = \"turquoise\") +\n",
        "# geom_rect(xmin=sr_0-od_0, xmax=sr_0+od_0, ymin=0, ymax=1.5, fill = 'salmon', color = 'salmon', alpha = 0.01, linetype = 'dotted') +\n",
        "# geom_rect(xmin=sr_1-od_1, xmax=sr_1+od_1, ymin=0, ymax=1.5, fill = 'turquoise', color = 'turquoise', alpha = 0.01, linetype = 'dotted') +\n",
        "# theme_minimal() + labs(color = 'Klastry1'))"
      ]
    },
    {
      "cell_type": "code",
      "execution_count": null,
      "id": "6243fecb",
      "metadata": {
        "id": "6243fecb"
      },
      "outputs": [],
      "source": [
        "# Iter2\n",
        "## etap E\n",
        "\n",
        "# df['prawd_0'] = stats.norm.pdf(df.x, sr_0, od_0)\n",
        "# df['prawd_1'] = stats.norm.pdf(df.x, sr_1, od_1)\n",
        "\n",
        "# # # Wizualizacja w trakcie E\n",
        "# (ggplot(df) +\n",
        "# geom_point(aes(x = 'x', y = -0.1)) +\n",
        "# geom_line(aes(x = 'x', y = 'prawd_0'), color = \"salmon\") +\n",
        "# geom_line(aes(x = 'x', y = 'prawd_1'), color = \"turquoise\") +\n",
        "# theme_minimal())\n",
        "\n",
        "# df['klastry2'] = np.where(df.prawd_0 > df.prawd_1, 0, 1)\n",
        "\n",
        "# # Wizualizacja po E\n",
        "# (ggplot(df) +\n",
        "# geom_point(aes(x = 'x', y = -0.1, color = 'factor(klastry2)')) +\n",
        "# geom_line(aes(x = 'x', y = 'prawd_0'), color = \"salmon\") +\n",
        "# geom_line(aes(x = 'x', y = 'prawd_1'), color = \"turquoise\") +\n",
        "# theme_minimal() + labs(color = 'Klastry2'))\n",
        "\n",
        "# # etap M\n",
        "\n",
        "# sr_0 = df.x.where(df.klastry2 == 0).mean()\n",
        "# od_0 = df.x.where(df.klastry2 == 0).std()\n",
        "# sr_1 = df.x.where(df.klastry2 == 1).mean()\n",
        "# od_1 = df.x.where(df.klastry2 == 1).std()\n",
        "\n",
        "# # Wizualizacja po M\n",
        "\n",
        "# (ggplot(df) +\n",
        "# geom_point(aes(x = 'x', y = -0.1, color = 'factor(klastry2)')) +\n",
        "# geom_line(aes(x = 'x', y = 'prawd_0'), color = \"salmon\") +\n",
        "# geom_line(aes(x = 'x', y = 'prawd_1'), color = \"turquoise\") +\n",
        "# geom_rect(xmin=sr_0-od_0, xmax=sr_0+od_0, ymin=0, ymax=4, fill = 'salmon', color = 'salmon', alpha = 0.01, linetype = 'dotted') +\n",
        "# geom_rect(xmin=sr_1-od_1, xmax=sr_1+od_1, ymin=0, ymax=4, fill = 'turquoise', color = 'turquoise', alpha = 0.01, linetype = 'dotted') +\n",
        "# theme_minimal() + labs(color = 'Klastry2'))"
      ]
    },
    {
      "cell_type": "code",
      "execution_count": null,
      "id": "c4e7d0c7",
      "metadata": {
        "id": "c4e7d0c7"
      },
      "outputs": [],
      "source": [
        "# Iter3\n",
        "## etap E\n",
        "\n",
        "# df['prawd_0'] = stats.norm.pdf(df.x, sr_0, od_0)\n",
        "# df['prawd_1'] = stats.norm.pdf(df.x, sr_1, od_1)\n",
        "\n",
        "# # # Wizualizacja w trakcie E\n",
        "# (ggplot(df) +\n",
        "# geom_point(aes(x = 'x', y = -0.1)) +\n",
        "# geom_line(aes(x = 'x', y = 'prawd_0'), color = \"salmon\") +\n",
        "# geom_line(aes(x = 'x', y = 'prawd_1'), color = \"turquoise\") +\n",
        "# theme_minimal())\n",
        "\n",
        "# df['klastry3'] = np.where(df.prawd_0 > df.prawd_1, 0, 1)\n",
        "\n",
        "# Wizualizacja po E\n",
        "# (ggplot(df) +\n",
        "# geom_point(aes(x = 'x', y = -0.1, color = 'factor(klastry3)')) +\n",
        "# geom_line(aes(x = 'x', y = 'prawd_0'), color = \"salmon\") +\n",
        "# geom_line(aes(x = 'x', y = 'prawd_1'), color = \"turquoise\") +\n",
        "# theme_minimal() + labs(color = 'Klastry3'))\n",
        "\n",
        "# # etap M\n",
        "\n",
        "# sr_0 = df.x.where(df.klastry3 == 0).mean()\n",
        "# od_0 = df.x.where(df.klastry3 == 0).std()\n",
        "# sr_1 = df.x.where(df.klastry3 == 1).mean()\n",
        "# od_1 = df.x.where(df.klastry3 == 1).std()\n",
        "\n",
        "# # Wizualizacja po M\n",
        "\n",
        "# (ggplot(df) +\n",
        "# geom_point(aes(x = 'x', y = -0.1, color = 'factor(klastry3)')) +\n",
        "# geom_line(aes(x = 'x', y = 'prawd_0'), color = \"salmon\") +\n",
        "# geom_line(aes(x = 'x', y = 'prawd_1'), color = \"turquoise\") +\n",
        "# geom_rect(xmin=sr_0-od_0, xmax=sr_0+od_0, ymin=0, ymax=4, fill = 'salmon', color = 'salmon', alpha = 0.01, linetype = 'dotted') +\n",
        "# geom_rect(xmin=sr_1-od_1, xmax=sr_1+od_1, ymin=0, ymax=4, fill = 'turquoise', color = 'turquoise', alpha = 0.01, linetype = 'dotted') +\n",
        "# theme_minimal() + labs(color = 'Klastry3'))"
      ]
    },
    {
      "cell_type": "markdown",
      "id": "aded9a54",
      "metadata": {
        "id": "aded9a54"
      },
      "source": [
        "### Porównanie wyników z `GaussianMixture`"
      ]
    },
    {
      "cell_type": "code",
      "execution_count": null,
      "id": "698c62fc",
      "metadata": {
        "id": "698c62fc"
      },
      "outputs": [],
      "source": [
        "# GMM\n",
        "gm = GaussianMixture(n_components=2).fit(df[['x']])\n",
        "\n",
        "# dodanie do ramki kolumny z etykietami klastrów\n",
        "df['Kgm'] = gm.predict(df[['x']])\n",
        "\n",
        "# wykres\n",
        "(ggplot(df, aes(x = 'x', y = -0.1, fill = 'factor(Kgm)')) +\n",
        " geom_point(size = 4, alpha = 0.5) +\n",
        " theme_minimal() +\n",
        " labs(fill = \"GM\"))"
      ]
    },
    {
      "cell_type": "code",
      "execution_count": null,
      "id": "7679c5e3",
      "metadata": {
        "colab": {
          "base_uri": "https://localhost:8080/",
          "height": 165
        },
        "id": "7679c5e3",
        "outputId": "f50436f1-f30c-4bb0-d96f-3ec8354706ad"
      },
      "outputs": [
        {
          "output_type": "error",
          "ename": "NameError",
          "evalue": "ignored",
          "traceback": [
            "\u001b[0;31m---------------------------------------------------------------------------\u001b[0m",
            "\u001b[0;31mNameError\u001b[0m                                 Traceback (most recent call last)",
            "\u001b[0;32m<ipython-input-9-7a2fa154923b>\u001b[0m in \u001b[0;36m<module>\u001b[0;34m\u001b[0m\n\u001b[0;32m----> 1\u001b[0;31m \u001b[0mgm\u001b[0m\u001b[0;34m.\u001b[0m\u001b[0mn_iter_\u001b[0m\u001b[0;34m\u001b[0m\u001b[0;34m\u001b[0m\u001b[0m\n\u001b[0m",
            "\u001b[0;31mNameError\u001b[0m: name 'gm' is not defined"
          ]
        }
      ],
      "source": [
        "gm.n_iter_"
      ]
    },
    {
      "cell_type": "code",
      "execution_count": null,
      "id": "ae0366da",
      "metadata": {
        "colab": {
          "base_uri": "https://localhost:8080/",
          "height": 165
        },
        "id": "ae0366da",
        "outputId": "8d21f122-d622-4e0c-dd5c-79c38dfc4af6"
      },
      "outputs": [
        {
          "output_type": "error",
          "ename": "NameError",
          "evalue": "ignored",
          "traceback": [
            "\u001b[0;31m---------------------------------------------------------------------------\u001b[0m",
            "\u001b[0;31mNameError\u001b[0m                                 Traceback (most recent call last)",
            "\u001b[0;32m<ipython-input-10-c6ec6e97c815>\u001b[0m in \u001b[0;36m<module>\u001b[0;34m\u001b[0m\n\u001b[0;32m----> 1\u001b[0;31m \u001b[0mgm\u001b[0m\u001b[0;34m.\u001b[0m\u001b[0mpredict_proba\u001b[0m\u001b[0;34m(\u001b[0m\u001b[0mdf\u001b[0m\u001b[0;34m[\u001b[0m\u001b[0;34m[\u001b[0m\u001b[0;34m'x'\u001b[0m\u001b[0;34m]\u001b[0m\u001b[0;34m]\u001b[0m\u001b[0;34m)\u001b[0m\u001b[0;34m.\u001b[0m\u001b[0mround\u001b[0m\u001b[0;34m(\u001b[0m\u001b[0;36m3\u001b[0m\u001b[0;34m)\u001b[0m\u001b[0;34m\u001b[0m\u001b[0;34m\u001b[0m\u001b[0m\n\u001b[0m",
            "\u001b[0;31mNameError\u001b[0m: name 'gm' is not defined"
          ]
        }
      ],
      "source": [
        "gm.predict_proba(df[['x']]).round(3)"
      ]
    },
    {
      "cell_type": "code",
      "execution_count": null,
      "id": "183ba8a1",
      "metadata": {
        "colab": {
          "base_uri": "https://localhost:8080/",
          "height": 311
        },
        "id": "183ba8a1",
        "outputId": "e06dbeb6-d1d9-4740-e164-c86f8e11cc80"
      },
      "outputs": [
        {
          "output_type": "error",
          "ename": "KeyError",
          "evalue": "ignored",
          "traceback": [
            "\u001b[0;31m---------------------------------------------------------------------------\u001b[0m",
            "\u001b[0;31mKeyError\u001b[0m                                  Traceback (most recent call last)",
            "\u001b[0;32m<ipython-input-11-fa09b3a0e382>\u001b[0m in \u001b[0;36m<module>\u001b[0;34m\u001b[0m\n\u001b[0;32m----> 1\u001b[0;31m \u001b[0mdf\u001b[0m\u001b[0;34m[\u001b[0m\u001b[0;34m[\u001b[0m\u001b[0;34m'prawd_0'\u001b[0m\u001b[0;34m,\u001b[0m \u001b[0;34m'prawd_1'\u001b[0m\u001b[0;34m]\u001b[0m\u001b[0;34m]\u001b[0m\u001b[0;34m.\u001b[0m\u001b[0mround\u001b[0m\u001b[0;34m(\u001b[0m\u001b[0;36m3\u001b[0m\u001b[0;34m)\u001b[0m\u001b[0;34m\u001b[0m\u001b[0;34m\u001b[0m\u001b[0m\n\u001b[0m",
            "\u001b[0;32m/usr/local/lib/python3.7/dist-packages/pandas/core/frame.py\u001b[0m in \u001b[0;36m__getitem__\u001b[0;34m(self, key)\u001b[0m\n\u001b[1;32m   3462\u001b[0m             \u001b[0;32mif\u001b[0m \u001b[0mis_iterator\u001b[0m\u001b[0;34m(\u001b[0m\u001b[0mkey\u001b[0m\u001b[0;34m)\u001b[0m\u001b[0;34m:\u001b[0m\u001b[0;34m\u001b[0m\u001b[0;34m\u001b[0m\u001b[0m\n\u001b[1;32m   3463\u001b[0m                 \u001b[0mkey\u001b[0m \u001b[0;34m=\u001b[0m \u001b[0mlist\u001b[0m\u001b[0;34m(\u001b[0m\u001b[0mkey\u001b[0m\u001b[0;34m)\u001b[0m\u001b[0;34m\u001b[0m\u001b[0;34m\u001b[0m\u001b[0m\n\u001b[0;32m-> 3464\u001b[0;31m             \u001b[0mindexer\u001b[0m \u001b[0;34m=\u001b[0m \u001b[0mself\u001b[0m\u001b[0;34m.\u001b[0m\u001b[0mloc\u001b[0m\u001b[0;34m.\u001b[0m\u001b[0m_get_listlike_indexer\u001b[0m\u001b[0;34m(\u001b[0m\u001b[0mkey\u001b[0m\u001b[0;34m,\u001b[0m \u001b[0maxis\u001b[0m\u001b[0;34m=\u001b[0m\u001b[0;36m1\u001b[0m\u001b[0;34m)\u001b[0m\u001b[0;34m[\u001b[0m\u001b[0;36m1\u001b[0m\u001b[0;34m]\u001b[0m\u001b[0;34m\u001b[0m\u001b[0;34m\u001b[0m\u001b[0m\n\u001b[0m\u001b[1;32m   3465\u001b[0m \u001b[0;34m\u001b[0m\u001b[0m\n\u001b[1;32m   3466\u001b[0m         \u001b[0;31m# take() does not accept boolean indexers\u001b[0m\u001b[0;34m\u001b[0m\u001b[0;34m\u001b[0m\u001b[0;34m\u001b[0m\u001b[0m\n",
            "\u001b[0;32m/usr/local/lib/python3.7/dist-packages/pandas/core/indexing.py\u001b[0m in \u001b[0;36m_get_listlike_indexer\u001b[0;34m(self, key, axis)\u001b[0m\n\u001b[1;32m   1312\u001b[0m             \u001b[0mkeyarr\u001b[0m\u001b[0;34m,\u001b[0m \u001b[0mindexer\u001b[0m\u001b[0;34m,\u001b[0m \u001b[0mnew_indexer\u001b[0m \u001b[0;34m=\u001b[0m \u001b[0max\u001b[0m\u001b[0;34m.\u001b[0m\u001b[0m_reindex_non_unique\u001b[0m\u001b[0;34m(\u001b[0m\u001b[0mkeyarr\u001b[0m\u001b[0;34m)\u001b[0m\u001b[0;34m\u001b[0m\u001b[0;34m\u001b[0m\u001b[0m\n\u001b[1;32m   1313\u001b[0m \u001b[0;34m\u001b[0m\u001b[0m\n\u001b[0;32m-> 1314\u001b[0;31m         \u001b[0mself\u001b[0m\u001b[0;34m.\u001b[0m\u001b[0m_validate_read_indexer\u001b[0m\u001b[0;34m(\u001b[0m\u001b[0mkeyarr\u001b[0m\u001b[0;34m,\u001b[0m \u001b[0mindexer\u001b[0m\u001b[0;34m,\u001b[0m \u001b[0maxis\u001b[0m\u001b[0;34m)\u001b[0m\u001b[0;34m\u001b[0m\u001b[0;34m\u001b[0m\u001b[0m\n\u001b[0m\u001b[1;32m   1315\u001b[0m \u001b[0;34m\u001b[0m\u001b[0m\n\u001b[1;32m   1316\u001b[0m         if needs_i8_conversion(ax.dtype) or isinstance(\n",
            "\u001b[0;32m/usr/local/lib/python3.7/dist-packages/pandas/core/indexing.py\u001b[0m in \u001b[0;36m_validate_read_indexer\u001b[0;34m(self, key, indexer, axis)\u001b[0m\n\u001b[1;32m   1372\u001b[0m                 \u001b[0;32mif\u001b[0m \u001b[0muse_interval_msg\u001b[0m\u001b[0;34m:\u001b[0m\u001b[0;34m\u001b[0m\u001b[0;34m\u001b[0m\u001b[0m\n\u001b[1;32m   1373\u001b[0m                     \u001b[0mkey\u001b[0m \u001b[0;34m=\u001b[0m \u001b[0mlist\u001b[0m\u001b[0;34m(\u001b[0m\u001b[0mkey\u001b[0m\u001b[0;34m)\u001b[0m\u001b[0;34m\u001b[0m\u001b[0;34m\u001b[0m\u001b[0m\n\u001b[0;32m-> 1374\u001b[0;31m                 \u001b[0;32mraise\u001b[0m \u001b[0mKeyError\u001b[0m\u001b[0;34m(\u001b[0m\u001b[0;34mf\"None of [{key}] are in the [{axis_name}]\"\u001b[0m\u001b[0;34m)\u001b[0m\u001b[0;34m\u001b[0m\u001b[0;34m\u001b[0m\u001b[0m\n\u001b[0m\u001b[1;32m   1375\u001b[0m \u001b[0;34m\u001b[0m\u001b[0m\n\u001b[1;32m   1376\u001b[0m             \u001b[0mnot_found\u001b[0m \u001b[0;34m=\u001b[0m \u001b[0mlist\u001b[0m\u001b[0;34m(\u001b[0m\u001b[0mensure_index\u001b[0m\u001b[0;34m(\u001b[0m\u001b[0mkey\u001b[0m\u001b[0;34m)\u001b[0m\u001b[0;34m[\u001b[0m\u001b[0mmissing_mask\u001b[0m\u001b[0;34m.\u001b[0m\u001b[0mnonzero\u001b[0m\u001b[0;34m(\u001b[0m\u001b[0;34m)\u001b[0m\u001b[0;34m[\u001b[0m\u001b[0;36m0\u001b[0m\u001b[0;34m]\u001b[0m\u001b[0;34m]\u001b[0m\u001b[0;34m.\u001b[0m\u001b[0munique\u001b[0m\u001b[0;34m(\u001b[0m\u001b[0;34m)\u001b[0m\u001b[0;34m)\u001b[0m\u001b[0;34m\u001b[0m\u001b[0;34m\u001b[0m\u001b[0m\n",
            "\u001b[0;31mKeyError\u001b[0m: \"None of [Index(['prawd_0', 'prawd_1'], dtype='object')] are in the [columns]\""
          ]
        }
      ],
      "source": [
        "df[['prawd_0', 'prawd_1']].round(3)"
      ]
    },
    {
      "cell_type": "code",
      "execution_count": null,
      "id": "7b5804e8",
      "metadata": {
        "id": "7b5804e8"
      },
      "outputs": [],
      "source": []
    }
  ],
  "metadata": {
    "kernelspec": {
      "display_name": "Python 3 (ipykernel)",
      "language": "python",
      "name": "python3"
    },
    "language_info": {
      "codemirror_mode": {
        "name": "ipython",
        "version": 3
      },
      "file_extension": ".py",
      "mimetype": "text/x-python",
      "name": "python",
      "nbconvert_exporter": "python",
      "pygments_lexer": "ipython3",
      "version": "3.8.5"
    },
    "colab": {
      "provenance": [],
      "include_colab_link": true
    }
  },
  "nbformat": 4,
  "nbformat_minor": 5
}